{
 "cells": [
  {
   "cell_type": "markdown",
   "metadata": {},
   "source": [
    "# A2\n"
   ]
  },
  {
   "cell_type": "code",
   "execution_count": 2,
   "metadata": {},
   "outputs": [
    {
     "name": "stdout",
     "output_type": "stream",
     "text": [
      "2023-02-27 21:01:11.301360\n"
     ]
    }
   ],
   "source": [
    "# Author: 黄宇康\n",
    "# Time: 2023/02/27\n",
    "\n",
    "import datetime\n",
    "\n",
    "print(datetime.datetime.today())"
   ]
  },
  {
   "cell_type": "code",
   "execution_count": 3,
   "metadata": {},
   "outputs": [],
   "source": [
    "import numpy as np\n",
    "import scipy\n",
    "import math"
   ]
  },
  {
   "cell_type": "code",
   "execution_count": 4,
   "metadata": {},
   "outputs": [],
   "source": [
    "# 参数初始化\n",
    "SIGMA = 50.0  # 惩罚因子\n",
    "EPSILON = 1e-3  # 终止条件\n",
    "TOL = 1e-3  # tolerance\n",
    "MAX_N = 1000  # 最大迭代次数\n",
    "\n",
    "# 增广拉格朗日方法中的参数\n",
    "ALPHA = 0.4\n",
    "BETA = 0.7\n",
    "ROU = 1.5\n",
    "\n",
    "e = 1e-10"
   ]
  },
  {
   "cell_type": "code",
   "execution_count": 5,
   "metadata": {},
   "outputs": [],
   "source": [
    "# A2\n",
    "# 目标函数\n",
    "def objfunc(x):      \n",
    "    return x[0] * x[3] * ( x[0] + x[1] + x[2] ) + x[2]\n",
    "\n",
    "# 等式约束\n",
    "def eq_con_func1(x):\n",
    "    return x[0]**2 + x[1]**2 + x[2]**2 + x[3]**2 - 40\n",
    "\n",
    "# 不等式约束\n",
    "def ieq_con_func1(x):\n",
    "    return - (x[0] * x[1] * x[2] * x[3]) + 25 + e\n",
    "\n",
    "def ieq_con_func2(x):\n",
    "    return x[0] - 5 + e\n",
    "\n",
    "def ieq_con_func3(x):\n",
    "    return x[1] - 5 + e\n",
    "\n",
    "def ieq_con_func4(x):\n",
    "    return x[2] - 5 + e\n",
    "\n",
    "def ieq_con_func5(x):\n",
    "    return x[3] - 5 + e\n",
    "\n",
    "def ieq_con_func6(x):\n",
    "    return -x[0] + 1 + e\n",
    "\n",
    "def ieq_con_func7(x):\n",
    "    return -x[1] + 1 + e\n",
    "\n",
    "def ieq_con_func8(x):\n",
    "    return -x[2] + 1 + e\n",
    "\n",
    "def ieq_con_func9(x):\n",
    "    return -x[3] + 1 + e\n",
    "\n",
    "\n",
    "eq_con_func = [eq_con_func1]\n",
    "ieq_con_func = [ieq_con_func1, ieq_con_func2, ieq_con_func3, ieq_con_func4, ieq_con_func5, ieq_con_func6, ieq_con_func7, ieq_con_func8, ieq_con_func9]"
   ]
  },
  {
   "cell_type": "code",
   "execution_count": 6,
   "metadata": {},
   "outputs": [],
   "source": [
    "# calculate norm\n",
    "def cal_vec_norm(x, order=2):\n",
    "    if(type(x) == np.ndarray):\n",
    "        if(order == np.Inf):\n",
    "            return np.max( np.abs(x) )\n",
    "        else:\n",
    "            return np.sum((np.abs(x) )**2, axis=0)**(1/order)\n",
    "    else:\n",
    "        print(\"The input is not a ndarray\")"
   ]
  },
  {
   "cell_type": "code",
   "execution_count": 7,
   "metadata": {},
   "outputs": [],
   "source": [
    "# 约束违反度\n",
    "def vk(x, eq_con_func, ieq_con_func, miu, sigma):\n",
    "\n",
    "    eq_con_sum = np.sum( [ (eq_con_func(x)**2) for eq_con_func in eq_con_func] )\n",
    "\n",
    "    ieq_con_sum = np.sum( [(np.max([ieq_con_func(x), -miu/sigma]))**2 for miu, ieq_con_func in zip(miu, ieq_con_func)] )\n",
    "\n",
    "    return math.sqrt(eq_con_sum + ieq_con_sum)\n"
   ]
  },
  {
   "cell_type": "code",
   "execution_count": 8,
   "metadata": {},
   "outputs": [],
   "source": [
    "# Augmented-Lagrange function entrnce\n",
    "def ALMFunc(x, objfunc, eq_con_func, ieq_con_func, labda, miu, sigma):\n",
    "    \"\"\"\n",
    "    The Augmented-Lagrange function\n",
    "\n",
    "    Parameters\n",
    "    ----------\n",
    "    x:-.\n",
    "    objfunc: the object func.\n",
    "    eqfunc: constraint equation.\n",
    "    ieqfunc: constraint iequation.\n",
    "    labda: λ, Lagrange multiplex of eqfunc\n",
    "    miu: μ, Lagrange multiplex of ieqfunc\n",
    "    sigma: σ, penalty factor\n",
    "    \"\"\"\n",
    "\n",
    "    # contraint equation\n",
    "    eq_con_sum = np.sum( [labda * eq_con_func(x) + 0.5 * sigma * (eq_con_func(x)**2) for labda, eq_con_func in zip(labda, eq_con_func)] )\n",
    "\n",
    "    # contraint iequation\n",
    "    ieq_con_sum = (0.5 * sigma) * ( np.sum( [(np.max([ieq_con_func(x) + miu/sigma, 0]))**2 - (miu/sigma)**2 for miu, ieq_con_func in zip(miu, ieq_con_func)] ) ) \n",
    "\n",
    "    # print(objfunc(x), eq_con_sum, ieq_con_sum)\n",
    "\n",
    "    return objfunc(x) + eq_con_sum + ieq_con_sum"
   ]
  },
  {
   "cell_type": "markdown",
   "metadata": {},
   "source": [
    "## 调用前面构建的拉格朗日方法完成求解"
   ]
  },
  {
   "cell_type": "code",
   "execution_count": 9,
   "metadata": {},
   "outputs": [
    {
     "name": "stdout",
     "output_type": "stream",
     "text": [
      "====== 1 0.03803224216836751 100\n",
      "====== 2 0.01551742034061906 6.467270065773575\n",
      "====== 3 0.015197433735375257 0.41825582103650943\n",
      "====== 4 0.02076752663643662 0.02704973351224967\n",
      "====== 5 0.0009616997377556709 0.0017493793183092458\n"
     ]
    }
   ],
   "source": [
    "# step 1\n",
    "# initialize random labda, miu\n",
    "labda = np.random.random(1)\n",
    "miu = np.random.random(9)\n",
    "\n",
    "n = 0  # 迭代次数\n",
    "t = 1000\n",
    "tol_k = 1e-1   # 精度常数\n",
    "epsilon_k = 100  # 约束违反常数\n",
    "sigma_k = SIGMA  # 惩罚因子\n",
    "labda_k = labda   # 等式约束的拉格朗日乘子\n",
    "miu_k = miu  # 不等式约束的拉格朗日乘子\n",
    "x_k = np.array([1, 5, 5, 1])  # xk初始值\n",
    "\n",
    "while( n < 1000 ):\n",
    "\n",
    "    n = n + 1\n",
    "\n",
    "    # step 2\n",
    "    # construct the Augmented-Lagrange function\n",
    "    ALM_Func = lambda x: ALMFunc(x, objfunc, eq_con_func, ieq_con_func, labda_k, miu_k, sigma_k)\n",
    "\n",
    "    # step 3\n",
    "    # 无约束优化问题的求解\n",
    "    # func: 函数, x0：初值， BFGS：方法\n",
    "    result = scipy.optimize.minimize(ALM_Func, x_k, tol = tol_k, method='L-BFGS-B', options={'disp': False})\n",
    "\n",
    "    \n",
    "\n",
    "    x_k = result.x\n",
    "\n",
    "    gnorm_k = cal_vec_norm(np.array([objfunc(x_k)]))\n",
    "    vk_k = vk(x_k, eq_con_func, ieq_con_func, miu_k, sigma_k)\n",
    "\n",
    "    print(\"======\", n, vk_k, epsilon_k)\n",
    "\n",
    "    # step 4\n",
    "    # 更新参数\n",
    "    if(vk_k <= epsilon_k):\n",
    "        if(vk_k <= EPSILON):\n",
    "            break\n",
    "\n",
    "        labda_k = labda_k + sigma_k * eq_con_func1(x_k)\n",
    "\n",
    "        for i in range(0, len(miu_k)):\n",
    "            miu_k[i] = np.max([miu_k[i] + sigma_k*ieq_con_func[i](x_k) , 0])\n",
    "\n",
    "        sigma_k = sigma_k\n",
    "        tol_k = tol_k / sigma_k\n",
    "        epsilon_k = epsilon_k / (sigma_k**BETA)\n",
    "\n",
    "    else:\n",
    "        labda_k = labda_k\n",
    "        sigma_k = ROU * sigma_k\n",
    "        tol_k = 1.0 / sigma_k\n",
    "        epsilon_k = epsilon_k / (sigma_k**ALPHA)       \n"
   ]
  },
  {
   "cell_type": "code",
   "execution_count": 10,
   "metadata": {},
   "outputs": [
    {
     "name": "stdout",
     "output_type": "stream",
     "text": [
      "迭代输出xk:  [0.99904081 4.74444324 3.81899045 1.38109317] 等式约束xk的结果为:  -6.941449030506419e-05\n",
      "fx最终值:  17.012990960913058\n"
     ]
    }
   ],
   "source": [
    "sum(result.x)\n",
    "result.x\n",
    "\n",
    "print(\"迭代输出xk: \", result.x, \"等式约束xk的结果为: \", eq_con_func1(result.x))\n",
    "print(\"fx最终值: \", objfunc(result.x))"
   ]
  },
  {
   "cell_type": "markdown",
   "metadata": {},
   "source": [
    "## 使用Scipy测试结果"
   ]
  },
  {
   "cell_type": "code",
   "execution_count": 11,
   "metadata": {},
   "outputs": [
    {
     "name": "stdout",
     "output_type": "stream",
     "text": [
      "最小值: 17.01401724576546\n",
      "最优解: [1.         4.74299606 3.82115467 1.37940764]\n",
      "迭代终止是否成功 True\n",
      "迭代终止原因 Optimization terminated successfully\n"
     ]
    }
   ],
   "source": [
    "# scipy调库计算结果\n",
    "\n",
    "from scipy.optimize import minimize\n",
    "e = 1e-10\n",
    "fun = lambda x: x[0] * x[3] * ( x[0] + x[1] + x[2] ) + x[2]  # 目标函数\n",
    "cons = ({'type':'eq','fun':lambda x:x[0]**2 + x[1]**2 + x[2]**2 + x[3]**2 - 40}, #约束条件\n",
    "        {'type':'ineq','fun':lambda x:x[0] * x[1] * x[2] * x[3] -25 - e},             #都分别大于0\n",
    "        {'type':'ineq','fun':lambda x:x[0] - 1 - e},\n",
    "        {'type':'ineq','fun':lambda x:x[1] - 1 - e},\n",
    "        {'type':'ineq','fun':lambda x:x[2] - 1 - e},\n",
    "        {'type':'ineq','fun':lambda x:x[3] - 1 - e},\n",
    "        {'type':'ineq','fun':lambda x:-x[0] + 5 - e}, \n",
    "        {'type':'ineq','fun':lambda x:-x[1] + 5 - e}, \n",
    "        {'type':'ineq','fun':lambda x:-x[2] + 5 - e}, \n",
    "        {'type':'ineq','fun':lambda x:-x[3] + 5 - e},         \n",
    "        )\n",
    "\n",
    "x0 = np.array((1, 5, 5, 1)) #设置xyz的初始值\n",
    "res = minimize(fun,x0,method='SLSQP',constraints=cons)\n",
    "print(\"最小值:\",res.fun)\n",
    "print(\"最优解:\",res.x)\n",
    "print(\"迭代终止是否成功\",res.success)\n",
    "print(\"迭代终止原因\",res.message)"
   ]
  }
 ],
 "metadata": {
  "kernelspec": {
   "display_name": "Python 3.9.16 ('Optimization')",
   "language": "python",
   "name": "python3"
  },
  "language_info": {
   "codemirror_mode": {
    "name": "ipython",
    "version": 3
   },
   "file_extension": ".py",
   "mimetype": "text/x-python",
   "name": "python",
   "nbconvert_exporter": "python",
   "pygments_lexer": "ipython3",
   "version": "3.9.16"
  },
  "orig_nbformat": 4,
  "vscode": {
   "interpreter": {
    "hash": "4b492c75f058c2a3d56af6755ae7f0e592b0627722afc4bc9a5ea1a2abbcd7f5"
   }
  }
 },
 "nbformat": 4,
 "nbformat_minor": 2
}
